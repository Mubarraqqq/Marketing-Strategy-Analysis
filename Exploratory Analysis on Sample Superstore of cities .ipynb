{
 "cells": [
  {
   "cell_type": "code",
   "execution_count": 1,
   "id": "a083beeb",
   "metadata": {},
   "outputs": [],
   "source": [
    "import pandas as pd"
   ]
  },
  {
   "cell_type": "code",
   "execution_count": 2,
   "id": "f4106c76",
   "metadata": {},
   "outputs": [],
   "source": [
    "# Load the dataset\n",
    "df=pd.read_csv('sales data.csv')"
   ]
  },
  {
   "cell_type": "code",
   "execution_count": 3,
   "id": "043284da",
   "metadata": {},
   "outputs": [
    {
     "data": {
      "text/html": [
       "<div>\n",
       "<style scoped>\n",
       "    .dataframe tbody tr th:only-of-type {\n",
       "        vertical-align: middle;\n",
       "    }\n",
       "\n",
       "    .dataframe tbody tr th {\n",
       "        vertical-align: top;\n",
       "    }\n",
       "\n",
       "    .dataframe thead th {\n",
       "        text-align: right;\n",
       "    }\n",
       "</style>\n",
       "<table border=\"1\" class=\"dataframe\">\n",
       "  <thead>\n",
       "    <tr style=\"text-align: right;\">\n",
       "      <th></th>\n",
       "      <th>Row ID</th>\n",
       "      <th>Order ID</th>\n",
       "      <th>Order Date</th>\n",
       "      <th>Ship Date</th>\n",
       "      <th>Ship Mode</th>\n",
       "      <th>Customer ID</th>\n",
       "      <th>Customer Name</th>\n",
       "      <th>Segment</th>\n",
       "      <th>Country</th>\n",
       "      <th>City</th>\n",
       "      <th>...</th>\n",
       "      <th>Region</th>\n",
       "      <th>Product ID</th>\n",
       "      <th>Category</th>\n",
       "      <th>Sub-Category</th>\n",
       "      <th>Product Name</th>\n",
       "      <th>Cost</th>\n",
       "      <th>Price</th>\n",
       "      <th>Profit</th>\n",
       "      <th>Quantity</th>\n",
       "      <th>Sales</th>\n",
       "    </tr>\n",
       "  </thead>\n",
       "  <tbody>\n",
       "    <tr>\n",
       "      <th>0</th>\n",
       "      <td>1</td>\n",
       "      <td>CA-2017-152156</td>\n",
       "      <td>8/11/17</td>\n",
       "      <td>11/11/17</td>\n",
       "      <td>Second Class</td>\n",
       "      <td>CG-12520</td>\n",
       "      <td>Claire Gute</td>\n",
       "      <td>Consumer</td>\n",
       "      <td>United States</td>\n",
       "      <td>Henderson</td>\n",
       "      <td>...</td>\n",
       "      <td>South</td>\n",
       "      <td>FUR-BO-10001798</td>\n",
       "      <td>Furniture</td>\n",
       "      <td>Bookcases</td>\n",
       "      <td>Bush Somerset Collection Bookcase</td>\n",
       "      <td>464.48</td>\n",
       "      <td>901.06</td>\n",
       "      <td>436.58</td>\n",
       "      <td>4</td>\n",
       "      <td>3604.243977</td>\n",
       "    </tr>\n",
       "    <tr>\n",
       "      <th>1</th>\n",
       "      <td>2</td>\n",
       "      <td>CA-2017-152156</td>\n",
       "      <td>8/11/17</td>\n",
       "      <td>11/11/17</td>\n",
       "      <td>Second Class</td>\n",
       "      <td>CG-12520</td>\n",
       "      <td>Claire Gute</td>\n",
       "      <td>Consumer</td>\n",
       "      <td>United States</td>\n",
       "      <td>Henderson</td>\n",
       "      <td>...</td>\n",
       "      <td>South</td>\n",
       "      <td>FUR-CH-10000454</td>\n",
       "      <td>Furniture</td>\n",
       "      <td>Chairs</td>\n",
       "      <td>Hon Deluxe Fabric Upholstered Stacking Chairs,...</td>\n",
       "      <td>756.10</td>\n",
       "      <td>138.70</td>\n",
       "      <td>-617.40</td>\n",
       "      <td>12</td>\n",
       "      <td>1664.369269</td>\n",
       "    </tr>\n",
       "    <tr>\n",
       "      <th>2</th>\n",
       "      <td>3</td>\n",
       "      <td>CA-2017-138688</td>\n",
       "      <td>12/6/17</td>\n",
       "      <td>16/06/2017</td>\n",
       "      <td>Second Class</td>\n",
       "      <td>DV-13045</td>\n",
       "      <td>Darrin Van Huff</td>\n",
       "      <td>Corporate</td>\n",
       "      <td>United States</td>\n",
       "      <td>Los Angeles</td>\n",
       "      <td>...</td>\n",
       "      <td>West</td>\n",
       "      <td>OFF-LA-10000240</td>\n",
       "      <td>Office Supplies</td>\n",
       "      <td>Labels</td>\n",
       "      <td>Self-Adhesive Address Labels for Typewriters b...</td>\n",
       "      <td>537.68</td>\n",
       "      <td>159.28</td>\n",
       "      <td>-378.40</td>\n",
       "      <td>12</td>\n",
       "      <td>1911.397750</td>\n",
       "    </tr>\n",
       "    <tr>\n",
       "      <th>3</th>\n",
       "      <td>4</td>\n",
       "      <td>US-2016-108966</td>\n",
       "      <td>11/10/16</td>\n",
       "      <td>18/10/2016</td>\n",
       "      <td>Standard Class</td>\n",
       "      <td>SO-20335</td>\n",
       "      <td>Sean O'Donnell</td>\n",
       "      <td>Consumer</td>\n",
       "      <td>United States</td>\n",
       "      <td>Fort Lauderdale</td>\n",
       "      <td>...</td>\n",
       "      <td>South</td>\n",
       "      <td>FUR-TA-10000577</td>\n",
       "      <td>Furniture</td>\n",
       "      <td>Tables</td>\n",
       "      <td>Bretford CR4500 Series Slim Rectangular Table</td>\n",
       "      <td>875.91</td>\n",
       "      <td>445.88</td>\n",
       "      <td>-430.03</td>\n",
       "      <td>13</td>\n",
       "      <td>5796.463018</td>\n",
       "    </tr>\n",
       "    <tr>\n",
       "      <th>4</th>\n",
       "      <td>5</td>\n",
       "      <td>US-2016-108966</td>\n",
       "      <td>11/10/16</td>\n",
       "      <td>18/10/2016</td>\n",
       "      <td>Standard Class</td>\n",
       "      <td>SO-20335</td>\n",
       "      <td>Sean O'Donnell</td>\n",
       "      <td>Consumer</td>\n",
       "      <td>United States</td>\n",
       "      <td>Fort Lauderdale</td>\n",
       "      <td>...</td>\n",
       "      <td>South</td>\n",
       "      <td>OFF-ST-10000760</td>\n",
       "      <td>Office Supplies</td>\n",
       "      <td>Storage</td>\n",
       "      <td>Eldon Fold 'N Roll Cart System</td>\n",
       "      <td>187.17</td>\n",
       "      <td>137.59</td>\n",
       "      <td>-49.58</td>\n",
       "      <td>19</td>\n",
       "      <td>2614.284944</td>\n",
       "    </tr>\n",
       "  </tbody>\n",
       "</table>\n",
       "<p>5 rows × 22 columns</p>\n",
       "</div>"
      ],
      "text/plain": [
       "   Row ID        Order ID Order Date   Ship Date       Ship Mode Customer ID  \\\n",
       "0       1  CA-2017-152156    8/11/17    11/11/17    Second Class    CG-12520   \n",
       "1       2  CA-2017-152156    8/11/17    11/11/17    Second Class    CG-12520   \n",
       "2       3  CA-2017-138688    12/6/17  16/06/2017    Second Class    DV-13045   \n",
       "3       4  US-2016-108966   11/10/16  18/10/2016  Standard Class    SO-20335   \n",
       "4       5  US-2016-108966   11/10/16  18/10/2016  Standard Class    SO-20335   \n",
       "\n",
       "     Customer Name    Segment        Country             City  ... Region  \\\n",
       "0      Claire Gute   Consumer  United States        Henderson  ...  South   \n",
       "1      Claire Gute   Consumer  United States        Henderson  ...  South   \n",
       "2  Darrin Van Huff  Corporate  United States      Los Angeles  ...   West   \n",
       "3   Sean O'Donnell   Consumer  United States  Fort Lauderdale  ...  South   \n",
       "4   Sean O'Donnell   Consumer  United States  Fort Lauderdale  ...  South   \n",
       "\n",
       "        Product ID         Category Sub-Category  \\\n",
       "0  FUR-BO-10001798        Furniture    Bookcases   \n",
       "1  FUR-CH-10000454        Furniture       Chairs   \n",
       "2  OFF-LA-10000240  Office Supplies       Labels   \n",
       "3  FUR-TA-10000577        Furniture       Tables   \n",
       "4  OFF-ST-10000760  Office Supplies      Storage   \n",
       "\n",
       "                                        Product Name    Cost   Price  Profit  \\\n",
       "0                  Bush Somerset Collection Bookcase  464.48  901.06  436.58   \n",
       "1  Hon Deluxe Fabric Upholstered Stacking Chairs,...  756.10  138.70 -617.40   \n",
       "2  Self-Adhesive Address Labels for Typewriters b...  537.68  159.28 -378.40   \n",
       "3      Bretford CR4500 Series Slim Rectangular Table  875.91  445.88 -430.03   \n",
       "4                     Eldon Fold 'N Roll Cart System  187.17  137.59  -49.58   \n",
       "\n",
       "   Quantity        Sales  \n",
       "0         4  3604.243977  \n",
       "1        12  1664.369269  \n",
       "2        12  1911.397750  \n",
       "3        13  5796.463018  \n",
       "4        19  2614.284944  \n",
       "\n",
       "[5 rows x 22 columns]"
      ]
     },
     "execution_count": 3,
     "metadata": {},
     "output_type": "execute_result"
    }
   ],
   "source": [
    "# Display the first few rows of the dataset\n",
    "df.head()"
   ]
  },
  {
   "cell_type": "code",
   "execution_count": 4,
   "id": "b02501f5",
   "metadata": {},
   "outputs": [
    {
     "name": "stdout",
     "output_type": "stream",
     "text": [
      "Total Sales: $ 63738454.182211734\n"
     ]
    }
   ],
   "source": [
    "# Perform basic analysis on the dataset\n",
    "# For example, calculate the total sales\n",
    "total_sales = df['Sales'].sum()\n",
    "print(\"Total Sales: $\", total_sales)"
   ]
  },
  {
   "cell_type": "code",
   "execution_count": 5,
   "id": "a9d0c644",
   "metadata": {},
   "outputs": [
    {
     "name": "stdout",
     "output_type": "stream",
     "text": [
      "Average Profit: $ 0.014970408163263813\n"
     ]
    }
   ],
   "source": [
    "# Calculate the average profit\n",
    "average_profit = df['Profit'].mean()\n",
    "print(\"Average Profit: $\", average_profit)"
   ]
  },
  {
   "cell_type": "code",
   "execution_count": 6,
   "id": "9fb043ea",
   "metadata": {},
   "outputs": [
    {
     "name": "stdout",
     "output_type": "stream",
     "text": [
      "            Row ID   Postal Code         Cost        Price       Profit  \\\n",
      "count  9800.000000   9789.000000  9800.000000  9800.000000  9800.000000   \n",
      "mean   4900.500000  55273.322403   501.552611   501.567655     0.014970   \n",
      "std    2829.160653  32041.223413   288.124739   287.176206   407.314218   \n",
      "min       1.000000   1040.000000     1.320000     1.060000  -978.860000   \n",
      "25%    2450.750000  23223.000000   251.565000   252.965000  -290.637500   \n",
      "50%    4900.500000  58103.000000   502.730000   503.710000    -2.520000   \n",
      "75%    7350.250000  90008.000000   750.460000   744.435000   284.222500   \n",
      "max    9800.000000  99301.000000   999.880000   999.920000   994.500000   \n",
      "\n",
      "          Quantity         Sales  \n",
      "count  9800.000000   9800.000000  \n",
      "mean     12.967551   6503.923896  \n",
      "std       7.241294   5614.159051  \n",
      "min       1.000000      3.401739  \n",
      "25%       7.000000   1880.221919  \n",
      "50%      13.000000   4892.063281  \n",
      "75%      19.000000   9876.885336  \n",
      "max      25.000000  24973.493980  \n"
     ]
    }
   ],
   "source": [
    "# Get summary statistics of the numerical columns\n",
    "print(df.describe())"
   ]
  },
  {
   "cell_type": "code",
   "execution_count": 7,
   "id": "b07a0945",
   "metadata": {},
   "outputs": [
    {
     "name": "stdout",
     "output_type": "stream",
     "text": [
      "Filtered Data:\n",
      "   Row ID        Order ID Order Date   Ship Date       Ship Mode Customer ID  \\\n",
      "0       1  CA-2017-152156    8/11/17    11/11/17    Second Class    CG-12520   \n",
      "1       2  CA-2017-152156    8/11/17    11/11/17    Second Class    CG-12520   \n",
      "3       4  US-2016-108966   11/10/16  18/10/2016  Standard Class    SO-20335   \n",
      "4       5  US-2016-108966   11/10/16  18/10/2016  Standard Class    SO-20335   \n",
      "5       6  CA-2015-115812     9/6/15  14/06/2015  Standard Class    BH-11710   \n",
      "\n",
      "     Customer Name   Segment        Country             City  ... Region  \\\n",
      "0      Claire Gute  Consumer  United States        Henderson  ...  South   \n",
      "1      Claire Gute  Consumer  United States        Henderson  ...  South   \n",
      "3   Sean O'Donnell  Consumer  United States  Fort Lauderdale  ...  South   \n",
      "4   Sean O'Donnell  Consumer  United States  Fort Lauderdale  ...  South   \n",
      "5  Brosina Hoffman  Consumer  United States      Los Angeles  ...   West   \n",
      "\n",
      "        Product ID         Category Sub-Category  \\\n",
      "0  FUR-BO-10001798        Furniture    Bookcases   \n",
      "1  FUR-CH-10000454        Furniture       Chairs   \n",
      "3  FUR-TA-10000577        Furniture       Tables   \n",
      "4  OFF-ST-10000760  Office Supplies      Storage   \n",
      "5  FUR-FU-10001487        Furniture  Furnishings   \n",
      "\n",
      "                                        Product Name    Cost   Price  Profit  \\\n",
      "0                  Bush Somerset Collection Bookcase  464.48  901.06  436.58   \n",
      "1  Hon Deluxe Fabric Upholstered Stacking Chairs,...  756.10  138.70 -617.40   \n",
      "3      Bretford CR4500 Series Slim Rectangular Table  875.91  445.88 -430.03   \n",
      "4                     Eldon Fold 'N Roll Cart System  187.17  137.59  -49.58   \n",
      "5  Eldon Expressions Wood and Plastic Desk Access...  795.60  162.16 -633.44   \n",
      "\n",
      "   Quantity        Sales  \n",
      "0         4  3604.243977  \n",
      "1        12  1664.369269  \n",
      "3        13  5796.463018  \n",
      "4        19  2614.284944  \n",
      "5        19  3081.066152  \n",
      "\n",
      "[5 rows x 22 columns]\n"
     ]
    }
   ],
   "source": [
    "# Filter the dataset based on a condition\n",
    "filtered_data = df[df['Segment'] == 'Consumer']\n",
    "print(\"Filtered Data:\")\n",
    "print(filtered_data.head())"
   ]
  },
  {
   "cell_type": "code",
   "execution_count": 8,
   "id": "ea77f140",
   "metadata": {},
   "outputs": [
    {
     "name": "stdout",
     "output_type": "stream",
     "text": [
      "Grouped Data:\n",
      "                        Sales     Profit\n",
      "Category                                \n",
      "Furniture        1.344672e+07  -9.201776\n",
      "Office Supplies  3.821741e+07  -1.389738\n",
      "Technology       1.207432e+07  15.157176\n"
     ]
    }
   ],
   "source": [
    "# Group the data by a specific column and calculate aggregated statistics\n",
    "grouped_data = df.groupby('Category').agg({'Sales': 'sum', 'Profit': 'mean'})\n",
    "print(\"Grouped Data:\")\n",
    "print(grouped_data)"
   ]
  },
  {
   "cell_type": "code",
   "execution_count": 9,
   "id": "4fc1dd89",
   "metadata": {},
   "outputs": [
    {
     "name": "stdout",
     "output_type": "stream",
     "text": [
      "   Row ID        Order ID Order Date   Ship Date       Ship Mode Customer ID  \\\n",
      "0       1  CA-2017-152156    8/11/17    11/11/17    Second Class    CG-12520   \n",
      "1       2  CA-2017-152156    8/11/17    11/11/17    Second Class    CG-12520   \n",
      "2       3  CA-2017-138688    12/6/17  16/06/2017    Second Class    DV-13045   \n",
      "3       4  US-2016-108966   11/10/16  18/10/2016  Standard Class    SO-20335   \n",
      "4       5  US-2016-108966   11/10/16  18/10/2016  Standard Class    SO-20335   \n",
      "\n",
      "     Customer Name    Segment        Country             City  ...  \\\n",
      "0      Claire Gute   Consumer  United States        Henderson  ...   \n",
      "1      Claire Gute   Consumer  United States        Henderson  ...   \n",
      "2  Darrin Van Huff  Corporate  United States      Los Angeles  ...   \n",
      "3   Sean O'Donnell   Consumer  United States  Fort Lauderdale  ...   \n",
      "4   Sean O'Donnell   Consumer  United States  Fort Lauderdale  ...   \n",
      "\n",
      "        Product ID         Category Sub-Category  \\\n",
      "0  FUR-BO-10001798        Furniture    Bookcases   \n",
      "1  FUR-CH-10000454        Furniture       Chairs   \n",
      "2  OFF-LA-10000240  Office Supplies       Labels   \n",
      "3  FUR-TA-10000577        Furniture       Tables   \n",
      "4  OFF-ST-10000760  Office Supplies      Storage   \n",
      "\n",
      "                                        Product Name    Cost   Price  Profit  \\\n",
      "0                  Bush Somerset Collection Bookcase  464.48  901.06  436.58   \n",
      "1  Hon Deluxe Fabric Upholstered Stacking Chairs,...  756.10  138.70 -617.40   \n",
      "2  Self-Adhesive Address Labels for Typewriters b...  537.68  159.28 -378.40   \n",
      "3      Bretford CR4500 Series Slim Rectangular Table  875.91  445.88 -430.03   \n",
      "4                     Eldon Fold 'N Roll Cart System  187.17  137.59  -49.58   \n",
      "\n",
      "   Quantity        Sales  Profit Margin  \n",
      "0         4  3604.243977      12.112942  \n",
      "1        12  1664.369269     -37.095133  \n",
      "2        12  1911.397750     -19.797031  \n",
      "3        13  5796.463018      -7.418835  \n",
      "4        19  2614.284944      -1.896503  \n",
      "\n",
      "[5 rows x 23 columns]\n"
     ]
    }
   ],
   "source": [
    "#Adding a new column to the DataFrame:\n",
    "df['Profit Margin'] = (df['Profit'] / df['Sales']) * 100\n",
    "print(df.head())"
   ]
  },
  {
   "cell_type": "code",
   "execution_count": 10,
   "id": "2c3b33dd",
   "metadata": {},
   "outputs": [
    {
     "name": "stdout",
     "output_type": "stream",
     "text": [
      "     Row ID        Order ID  Order Date   Ship Date       Ship Mode  \\\n",
      "5         6  CA-2015-115812      9/6/15  14/06/2015  Standard Class   \n",
      "10       11  CA-2015-115812      9/6/15  14/06/2015  Standard Class   \n",
      "24       25  CA-2016-106320  25/09/2016  30/09/2016  Standard Class   \n",
      "65       66  CA-2016-135545  24/11/2016  30/11/2016  Standard Class   \n",
      "104     105  US-2016-156867  13/11/2016  17/11/2016  Standard Class   \n",
      "\n",
      "    Customer ID    Customer Name   Segment        Country         City  ...  \\\n",
      "5      BH-11710  Brosina Hoffman  Consumer  United States  Los Angeles  ...   \n",
      "10     BH-11710  Brosina Hoffman  Consumer  United States  Los Angeles  ...   \n",
      "24     EB-13870      Emily Burns  Consumer  United States         Orem  ...   \n",
      "65     KM-16720     Kunst Miller  Consumer  United States  Los Angeles  ...   \n",
      "104    LC-16870    Lena Cacioppo  Consumer  United States       Aurora  ...   \n",
      "\n",
      "          Product ID   Category Sub-Category  \\\n",
      "5    FUR-FU-10001487  Furniture  Furnishings   \n",
      "10   FUR-TA-10001539  Furniture       Tables   \n",
      "24   FUR-TA-10000577  Furniture       Tables   \n",
      "65   FUR-FU-10000397  Furniture  Furnishings   \n",
      "104  FUR-FU-10004006  Furniture  Furnishings   \n",
      "\n",
      "                                          Product Name    Cost   Price  \\\n",
      "5    Eldon Expressions Wood and Plastic Desk Access...  795.60  162.16   \n",
      "10            Chromcraft Rectangular Conference Tables  742.20  747.27   \n",
      "24       Bretford CR4500 Series Slim Rectangular Table  202.83  797.24   \n",
      "65                         Luxo Economy Swing Arm Lamp  145.26  413.09   \n",
      "104  Deflect-o DuraMat Lighweight, Studded, Beveled...  135.90  281.59   \n",
      "\n",
      "     Profit  Quantity         Sales  Profit Margin  \n",
      "5   -633.44        19   3081.066152     -20.559117  \n",
      "10     5.07        15  11209.082860       0.045231  \n",
      "24   594.41        22  17539.294870       3.389019  \n",
      "65   267.83         2    826.180006      32.417875  \n",
      "104  145.69        17   4787.051652       3.043418  \n",
      "\n",
      "[5 rows x 23 columns]\n"
     ]
    }
   ],
   "source": [
    "#Filtering rows based on multiple conditions:\n",
    "filtered_data = df[(df['Region'] == 'West') & (df['Category'] == 'Furniture')]\n",
    "print(filtered_data.head())"
   ]
  },
  {
   "cell_type": "code",
   "execution_count": 11,
   "id": "beec543f",
   "metadata": {},
   "outputs": [
    {
     "name": "stdout",
     "output_type": "stream",
     "text": [
      "Row ID            0\n",
      "Order ID          0\n",
      "Order Date        0\n",
      "Ship Date         0\n",
      "Ship Mode         0\n",
      "Customer ID       0\n",
      "Customer Name     0\n",
      "Segment           0\n",
      "Country           0\n",
      "City              0\n",
      "State             0\n",
      "Postal Code      11\n",
      "Region            0\n",
      "Product ID        0\n",
      "Category          0\n",
      "Sub-Category      0\n",
      "Product Name      0\n",
      "Cost              0\n",
      "Price             0\n",
      "Profit            0\n",
      "Quantity          0\n",
      "Sales             0\n",
      "Profit Margin     0\n",
      "dtype: int64\n"
     ]
    }
   ],
   "source": [
    "# Check for missing values\n",
    "print(df.isnull().sum())\n",
    "\n",
    "# Drop rows with missing values\n",
    "df.dropna(inplace=True)"
   ]
  },
  {
   "cell_type": "code",
   "execution_count": 12,
   "id": "384f773e",
   "metadata": {},
   "outputs": [
    {
     "data": {
      "text/html": [
       "<div>\n",
       "<style scoped>\n",
       "    .dataframe tbody tr th:only-of-type {\n",
       "        vertical-align: middle;\n",
       "    }\n",
       "\n",
       "    .dataframe tbody tr th {\n",
       "        vertical-align: top;\n",
       "    }\n",
       "\n",
       "    .dataframe thead th {\n",
       "        text-align: right;\n",
       "    }\n",
       "</style>\n",
       "<table border=\"1\" class=\"dataframe\">\n",
       "  <thead>\n",
       "    <tr style=\"text-align: right;\">\n",
       "      <th></th>\n",
       "      <th>Row ID</th>\n",
       "      <th>Order ID</th>\n",
       "      <th>Order Date</th>\n",
       "      <th>Ship Date</th>\n",
       "      <th>Ship Mode</th>\n",
       "      <th>Customer ID</th>\n",
       "      <th>Customer Name</th>\n",
       "      <th>Segment</th>\n",
       "      <th>Country</th>\n",
       "      <th>City</th>\n",
       "      <th>...</th>\n",
       "      <th>Product ID</th>\n",
       "      <th>Category</th>\n",
       "      <th>Sub-Category</th>\n",
       "      <th>Product Name</th>\n",
       "      <th>Cost</th>\n",
       "      <th>Price</th>\n",
       "      <th>Profit</th>\n",
       "      <th>Quantity</th>\n",
       "      <th>Sales</th>\n",
       "      <th>Profit Margin</th>\n",
       "    </tr>\n",
       "  </thead>\n",
       "  <tbody>\n",
       "    <tr>\n",
       "      <th>0</th>\n",
       "      <td>1</td>\n",
       "      <td>CA-2017-152156</td>\n",
       "      <td>2017-08-11</td>\n",
       "      <td>2017-11-11</td>\n",
       "      <td>Second Class</td>\n",
       "      <td>CG-12520</td>\n",
       "      <td>Claire Gute</td>\n",
       "      <td>Consumer</td>\n",
       "      <td>United States</td>\n",
       "      <td>Henderson</td>\n",
       "      <td>...</td>\n",
       "      <td>FUR-BO-10001798</td>\n",
       "      <td>Furniture</td>\n",
       "      <td>Bookcases</td>\n",
       "      <td>Bush Somerset Collection Bookcase</td>\n",
       "      <td>464.48</td>\n",
       "      <td>901.06</td>\n",
       "      <td>436.58</td>\n",
       "      <td>4</td>\n",
       "      <td>3604.243977</td>\n",
       "      <td>12.112942</td>\n",
       "    </tr>\n",
       "    <tr>\n",
       "      <th>1</th>\n",
       "      <td>2</td>\n",
       "      <td>CA-2017-152156</td>\n",
       "      <td>2017-08-11</td>\n",
       "      <td>2017-11-11</td>\n",
       "      <td>Second Class</td>\n",
       "      <td>CG-12520</td>\n",
       "      <td>Claire Gute</td>\n",
       "      <td>Consumer</td>\n",
       "      <td>United States</td>\n",
       "      <td>Henderson</td>\n",
       "      <td>...</td>\n",
       "      <td>FUR-CH-10000454</td>\n",
       "      <td>Furniture</td>\n",
       "      <td>Chairs</td>\n",
       "      <td>Hon Deluxe Fabric Upholstered Stacking Chairs,...</td>\n",
       "      <td>756.10</td>\n",
       "      <td>138.70</td>\n",
       "      <td>-617.40</td>\n",
       "      <td>12</td>\n",
       "      <td>1664.369269</td>\n",
       "      <td>-37.095133</td>\n",
       "    </tr>\n",
       "    <tr>\n",
       "      <th>2</th>\n",
       "      <td>3</td>\n",
       "      <td>CA-2017-138688</td>\n",
       "      <td>2017-12-06</td>\n",
       "      <td>2017-06-16</td>\n",
       "      <td>Second Class</td>\n",
       "      <td>DV-13045</td>\n",
       "      <td>Darrin Van Huff</td>\n",
       "      <td>Corporate</td>\n",
       "      <td>United States</td>\n",
       "      <td>Los Angeles</td>\n",
       "      <td>...</td>\n",
       "      <td>OFF-LA-10000240</td>\n",
       "      <td>Office Supplies</td>\n",
       "      <td>Labels</td>\n",
       "      <td>Self-Adhesive Address Labels for Typewriters b...</td>\n",
       "      <td>537.68</td>\n",
       "      <td>159.28</td>\n",
       "      <td>-378.40</td>\n",
       "      <td>12</td>\n",
       "      <td>1911.397750</td>\n",
       "      <td>-19.797031</td>\n",
       "    </tr>\n",
       "    <tr>\n",
       "      <th>3</th>\n",
       "      <td>4</td>\n",
       "      <td>US-2016-108966</td>\n",
       "      <td>2016-11-10</td>\n",
       "      <td>2016-10-18</td>\n",
       "      <td>Standard Class</td>\n",
       "      <td>SO-20335</td>\n",
       "      <td>Sean O'Donnell</td>\n",
       "      <td>Consumer</td>\n",
       "      <td>United States</td>\n",
       "      <td>Fort Lauderdale</td>\n",
       "      <td>...</td>\n",
       "      <td>FUR-TA-10000577</td>\n",
       "      <td>Furniture</td>\n",
       "      <td>Tables</td>\n",
       "      <td>Bretford CR4500 Series Slim Rectangular Table</td>\n",
       "      <td>875.91</td>\n",
       "      <td>445.88</td>\n",
       "      <td>-430.03</td>\n",
       "      <td>13</td>\n",
       "      <td>5796.463018</td>\n",
       "      <td>-7.418835</td>\n",
       "    </tr>\n",
       "    <tr>\n",
       "      <th>4</th>\n",
       "      <td>5</td>\n",
       "      <td>US-2016-108966</td>\n",
       "      <td>2016-11-10</td>\n",
       "      <td>2016-10-18</td>\n",
       "      <td>Standard Class</td>\n",
       "      <td>SO-20335</td>\n",
       "      <td>Sean O'Donnell</td>\n",
       "      <td>Consumer</td>\n",
       "      <td>United States</td>\n",
       "      <td>Fort Lauderdale</td>\n",
       "      <td>...</td>\n",
       "      <td>OFF-ST-10000760</td>\n",
       "      <td>Office Supplies</td>\n",
       "      <td>Storage</td>\n",
       "      <td>Eldon Fold 'N Roll Cart System</td>\n",
       "      <td>187.17</td>\n",
       "      <td>137.59</td>\n",
       "      <td>-49.58</td>\n",
       "      <td>19</td>\n",
       "      <td>2614.284944</td>\n",
       "      <td>-1.896503</td>\n",
       "    </tr>\n",
       "  </tbody>\n",
       "</table>\n",
       "<p>5 rows × 23 columns</p>\n",
       "</div>"
      ],
      "text/plain": [
       "   Row ID        Order ID Order Date  Ship Date       Ship Mode Customer ID  \\\n",
       "0       1  CA-2017-152156 2017-08-11 2017-11-11    Second Class    CG-12520   \n",
       "1       2  CA-2017-152156 2017-08-11 2017-11-11    Second Class    CG-12520   \n",
       "2       3  CA-2017-138688 2017-12-06 2017-06-16    Second Class    DV-13045   \n",
       "3       4  US-2016-108966 2016-11-10 2016-10-18  Standard Class    SO-20335   \n",
       "4       5  US-2016-108966 2016-11-10 2016-10-18  Standard Class    SO-20335   \n",
       "\n",
       "     Customer Name    Segment        Country             City  ...  \\\n",
       "0      Claire Gute   Consumer  United States        Henderson  ...   \n",
       "1      Claire Gute   Consumer  United States        Henderson  ...   \n",
       "2  Darrin Van Huff  Corporate  United States      Los Angeles  ...   \n",
       "3   Sean O'Donnell   Consumer  United States  Fort Lauderdale  ...   \n",
       "4   Sean O'Donnell   Consumer  United States  Fort Lauderdale  ...   \n",
       "\n",
       "        Product ID         Category Sub-Category  \\\n",
       "0  FUR-BO-10001798        Furniture    Bookcases   \n",
       "1  FUR-CH-10000454        Furniture       Chairs   \n",
       "2  OFF-LA-10000240  Office Supplies       Labels   \n",
       "3  FUR-TA-10000577        Furniture       Tables   \n",
       "4  OFF-ST-10000760  Office Supplies      Storage   \n",
       "\n",
       "                                        Product Name    Cost   Price  Profit  \\\n",
       "0                  Bush Somerset Collection Bookcase  464.48  901.06  436.58   \n",
       "1  Hon Deluxe Fabric Upholstered Stacking Chairs,...  756.10  138.70 -617.40   \n",
       "2  Self-Adhesive Address Labels for Typewriters b...  537.68  159.28 -378.40   \n",
       "3      Bretford CR4500 Series Slim Rectangular Table  875.91  445.88 -430.03   \n",
       "4                     Eldon Fold 'N Roll Cart System  187.17  137.59  -49.58   \n",
       "\n",
       "   Quantity        Sales  Profit Margin  \n",
       "0         4  3604.243977      12.112942  \n",
       "1        12  1664.369269     -37.095133  \n",
       "2        12  1911.397750     -19.797031  \n",
       "3        13  5796.463018      -7.418835  \n",
       "4        19  2614.284944      -1.896503  \n",
       "\n",
       "[5 rows x 23 columns]"
      ]
     },
     "execution_count": 12,
     "metadata": {},
     "output_type": "execute_result"
    }
   ],
   "source": [
    "#Performing date/time operations:\n",
    "df['Order Date'] = pd.to_datetime(df['Order Date'])\n",
    "df['Ship Date'] = pd.to_datetime(df['Ship Date'])\n",
    "df.head()"
   ]
  },
  {
   "cell_type": "code",
   "execution_count": 13,
   "id": "9867b11d",
   "metadata": {},
   "outputs": [
    {
     "data": {
      "text/plain": [
       "Month\n",
       "1     3.838679e+06\n",
       "2     3.371497e+06\n",
       "3     5.123077e+06\n",
       "4     4.366205e+06\n",
       "5     5.622306e+06\n",
       "6     4.351000e+06\n",
       "7     4.610228e+06\n",
       "8     5.358837e+06\n",
       "9     7.228462e+06\n",
       "10    5.210890e+06\n",
       "11    7.773593e+06\n",
       "12    6.830768e+06\n",
       "Name: Sales, dtype: float64"
      ]
     },
     "execution_count": 13,
     "metadata": {},
     "output_type": "execute_result"
    }
   ],
   "source": [
    "#Analyzing sales trends over time:\n",
    "df['Order Date'] = pd.to_datetime(df['Order Date'])\n",
    "df['Month'] = df['Order Date'].dt.month\n",
    "monthly_sales = df.groupby('Month')['Sales'].sum()\n",
    "monthly_sales"
   ]
  },
  {
   "cell_type": "code",
   "execution_count": 14,
   "id": "f9547fd6",
   "metadata": {},
   "outputs": [
    {
     "data": {
      "text/plain": [
       "Segment\n",
       "Consumer       3.330431e+07\n",
       "Corporate      1.872164e+07\n",
       "Home Office    1.165959e+07\n",
       "Name: Sales, dtype: float64"
      ]
     },
     "execution_count": 14,
     "metadata": {},
     "output_type": "execute_result"
    }
   ],
   "source": [
    "#Customer segmentation analysis:\n",
    "customer_segmentation = df.groupby('Segment')['Sales'].sum()\n",
    "customer_segmentation"
   ]
  },
  {
   "cell_type": "code",
   "execution_count": 15,
   "id": "2f1bd3f5",
   "metadata": {},
   "outputs": [
    {
     "data": {
      "text/html": [
       "<div>\n",
       "<style scoped>\n",
       "    .dataframe tbody tr th:only-of-type {\n",
       "        vertical-align: middle;\n",
       "    }\n",
       "\n",
       "    .dataframe tbody tr th {\n",
       "        vertical-align: top;\n",
       "    }\n",
       "\n",
       "    .dataframe thead th {\n",
       "        text-align: right;\n",
       "    }\n",
       "</style>\n",
       "<table border=\"1\" class=\"dataframe\">\n",
       "  <thead>\n",
       "    <tr style=\"text-align: right;\">\n",
       "      <th></th>\n",
       "      <th>count</th>\n",
       "      <th>mean</th>\n",
       "      <th>sum</th>\n",
       "    </tr>\n",
       "    <tr>\n",
       "      <th>Customer ID</th>\n",
       "      <th></th>\n",
       "      <th></th>\n",
       "      <th></th>\n",
       "    </tr>\n",
       "  </thead>\n",
       "  <tbody>\n",
       "    <tr>\n",
       "      <th>AA-10315</th>\n",
       "      <td>11</td>\n",
       "      <td>5574.726974</td>\n",
       "      <td>61321.996711</td>\n",
       "    </tr>\n",
       "    <tr>\n",
       "      <th>AA-10375</th>\n",
       "      <td>15</td>\n",
       "      <td>7357.274015</td>\n",
       "      <td>110359.110224</td>\n",
       "    </tr>\n",
       "    <tr>\n",
       "      <th>AA-10480</th>\n",
       "      <td>12</td>\n",
       "      <td>7530.010731</td>\n",
       "      <td>90360.128769</td>\n",
       "    </tr>\n",
       "    <tr>\n",
       "      <th>AA-10645</th>\n",
       "      <td>18</td>\n",
       "      <td>7531.436348</td>\n",
       "      <td>135565.854270</td>\n",
       "    </tr>\n",
       "    <tr>\n",
       "      <th>AB-10015</th>\n",
       "      <td>6</td>\n",
       "      <td>12257.008984</td>\n",
       "      <td>73542.053904</td>\n",
       "    </tr>\n",
       "    <tr>\n",
       "      <th>...</th>\n",
       "      <td>...</td>\n",
       "      <td>...</td>\n",
       "      <td>...</td>\n",
       "    </tr>\n",
       "    <tr>\n",
       "      <th>XP-21865</th>\n",
       "      <td>28</td>\n",
       "      <td>6211.236710</td>\n",
       "      <td>173914.627892</td>\n",
       "    </tr>\n",
       "    <tr>\n",
       "      <th>YC-21895</th>\n",
       "      <td>8</td>\n",
       "      <td>6645.466096</td>\n",
       "      <td>53163.728767</td>\n",
       "    </tr>\n",
       "    <tr>\n",
       "      <th>YS-21880</th>\n",
       "      <td>12</td>\n",
       "      <td>8585.750890</td>\n",
       "      <td>103029.010685</td>\n",
       "    </tr>\n",
       "    <tr>\n",
       "      <th>ZC-21910</th>\n",
       "      <td>31</td>\n",
       "      <td>5967.022262</td>\n",
       "      <td>184977.690137</td>\n",
       "    </tr>\n",
       "    <tr>\n",
       "      <th>ZD-21925</th>\n",
       "      <td>9</td>\n",
       "      <td>4269.047656</td>\n",
       "      <td>38421.428905</td>\n",
       "    </tr>\n",
       "  </tbody>\n",
       "</table>\n",
       "<p>793 rows × 3 columns</p>\n",
       "</div>"
      ],
      "text/plain": [
       "             count          mean            sum\n",
       "Customer ID                                    \n",
       "AA-10315        11   5574.726974   61321.996711\n",
       "AA-10375        15   7357.274015  110359.110224\n",
       "AA-10480        12   7530.010731   90360.128769\n",
       "AA-10645        18   7531.436348  135565.854270\n",
       "AB-10015         6  12257.008984   73542.053904\n",
       "...            ...           ...            ...\n",
       "XP-21865        28   6211.236710  173914.627892\n",
       "YC-21895         8   6645.466096   53163.728767\n",
       "YS-21880        12   8585.750890  103029.010685\n",
       "ZC-21910        31   5967.022262  184977.690137\n",
       "ZD-21925         9   4269.047656   38421.428905\n",
       "\n",
       "[793 rows x 3 columns]"
      ]
     },
     "execution_count": 15,
     "metadata": {},
     "output_type": "execute_result"
    }
   ],
   "source": [
    "#Analyzing customer behavior:\n",
    "customer_behavior = df.groupby('Customer ID')['Sales'].agg(['count', 'mean', 'sum'])\n",
    "customer_behavior"
   ]
  },
  {
   "cell_type": "code",
   "execution_count": 16,
   "id": "88838a33",
   "metadata": {},
   "outputs": [
    {
     "data": {
      "text/html": [
       "<div>\n",
       "<style scoped>\n",
       "    .dataframe tbody tr th:only-of-type {\n",
       "        vertical-align: middle;\n",
       "    }\n",
       "\n",
       "    .dataframe tbody tr th {\n",
       "        vertical-align: top;\n",
       "    }\n",
       "\n",
       "    .dataframe thead th {\n",
       "        text-align: right;\n",
       "    }\n",
       "</style>\n",
       "<table border=\"1\" class=\"dataframe\">\n",
       "  <thead>\n",
       "    <tr style=\"text-align: right;\">\n",
       "      <th></th>\n",
       "      <th>count</th>\n",
       "      <th>sum</th>\n",
       "    </tr>\n",
       "    <tr>\n",
       "      <th>Product ID</th>\n",
       "      <th></th>\n",
       "      <th></th>\n",
       "    </tr>\n",
       "  </thead>\n",
       "  <tbody>\n",
       "    <tr>\n",
       "      <th>FUR-BO-10000112</th>\n",
       "      <td>1</td>\n",
       "      <td>1233.446610</td>\n",
       "    </tr>\n",
       "    <tr>\n",
       "      <th>FUR-BO-10000330</th>\n",
       "      <td>3</td>\n",
       "      <td>7166.328662</td>\n",
       "    </tr>\n",
       "    <tr>\n",
       "      <th>FUR-BO-10000362</th>\n",
       "      <td>5</td>\n",
       "      <td>41644.300598</td>\n",
       "    </tr>\n",
       "    <tr>\n",
       "      <th>FUR-BO-10000468</th>\n",
       "      <td>6</td>\n",
       "      <td>38845.250996</td>\n",
       "    </tr>\n",
       "    <tr>\n",
       "      <th>FUR-BO-10000711</th>\n",
       "      <td>2</td>\n",
       "      <td>27032.065996</td>\n",
       "    </tr>\n",
       "    <tr>\n",
       "      <th>...</th>\n",
       "      <td>...</td>\n",
       "      <td>...</td>\n",
       "    </tr>\n",
       "    <tr>\n",
       "      <th>TEC-PH-10004912</th>\n",
       "      <td>2</td>\n",
       "      <td>12899.405350</td>\n",
       "    </tr>\n",
       "    <tr>\n",
       "      <th>TEC-PH-10004922</th>\n",
       "      <td>5</td>\n",
       "      <td>12853.216391</td>\n",
       "    </tr>\n",
       "    <tr>\n",
       "      <th>TEC-PH-10004924</th>\n",
       "      <td>3</td>\n",
       "      <td>29138.701841</td>\n",
       "    </tr>\n",
       "    <tr>\n",
       "      <th>TEC-PH-10004959</th>\n",
       "      <td>2</td>\n",
       "      <td>32360.636154</td>\n",
       "    </tr>\n",
       "    <tr>\n",
       "      <th>TEC-PH-10004977</th>\n",
       "      <td>9</td>\n",
       "      <td>75343.210124</td>\n",
       "    </tr>\n",
       "  </tbody>\n",
       "</table>\n",
       "<p>1860 rows × 2 columns</p>\n",
       "</div>"
      ],
      "text/plain": [
       "                 count           sum\n",
       "Product ID                          \n",
       "FUR-BO-10000112      1   1233.446610\n",
       "FUR-BO-10000330      3   7166.328662\n",
       "FUR-BO-10000362      5  41644.300598\n",
       "FUR-BO-10000468      6  38845.250996\n",
       "FUR-BO-10000711      2  27032.065996\n",
       "...                ...           ...\n",
       "TEC-PH-10004912      2  12899.405350\n",
       "TEC-PH-10004922      5  12853.216391\n",
       "TEC-PH-10004924      3  29138.701841\n",
       "TEC-PH-10004959      2  32360.636154\n",
       "TEC-PH-10004977      9  75343.210124\n",
       "\n",
       "[1860 rows x 2 columns]"
      ]
     },
     "execution_count": 16,
     "metadata": {},
     "output_type": "execute_result"
    }
   ],
   "source": [
    "product_performance = df.groupby('Product ID')['Sales'].agg(['count', 'sum'])\n",
    "product_performance"
   ]
  },
  {
   "cell_type": "code",
   "execution_count": 17,
   "id": "7ac97e54",
   "metadata": {},
   "outputs": [],
   "source": [
    "# Analyze customer demographics\n",
    "customer_demographics = df.groupby(['Country', 'City', 'State']).size()"
   ]
  },
  {
   "cell_type": "code",
   "execution_count": 18,
   "id": "74f90a5d",
   "metadata": {},
   "outputs": [
    {
     "name": "stdout",
     "output_type": "stream",
     "text": [
      "Customer demographics:\n",
      "Country        City         State       \n",
      "United States  Aberdeen     South Dakota     1\n",
      "               Abilene      Texas            1\n",
      "               Akron        Ohio            20\n",
      "               Albuquerque  New Mexico      14\n",
      "               Alexandria   Virginia        16\n",
      "                                            ..\n",
      "               Woonsocket   Rhode Island     4\n",
      "               Yonkers      New York        15\n",
      "               York         Pennsylvania     5\n",
      "               Yucaipa      California       1\n",
      "               Yuma         Arizona          4\n",
      "Length: 599, dtype: int64\n"
     ]
    }
   ],
   "source": [
    "# Print customer demographics\n",
    "print(\"Customer demographics:\")\n",
    "print(customer_demographics)"
   ]
  },
  {
   "cell_type": "code",
   "execution_count": 19,
   "id": "f4aaa12f",
   "metadata": {},
   "outputs": [],
   "source": [
    "# Identify high-value customers based on purchase history or total sales\n",
    "high_value_customers = df.groupby('Customer ID')['Sales'].sum().nlargest(10)"
   ]
  },
  {
   "cell_type": "code",
   "execution_count": 20,
   "id": "7c9ce361",
   "metadata": {},
   "outputs": [
    {
     "name": "stdout",
     "output_type": "stream",
     "text": [
      "\n",
      "High-value customers:\n",
      "Customer ID\n",
      "JL-15835    272209.275605\n",
      "SV-20365    270807.205184\n",
      "WB-21850    246339.934259\n",
      "PP-18955    245024.019925\n",
      "MA-17560    231106.264288\n",
      "CL-12565    229990.590764\n",
      "RP-19390    214638.388541\n",
      "FH-14275    213878.768645\n",
      "Dp-13240    210740.992019\n",
      "JD-15895    210228.194843\n",
      "Name: Sales, dtype: float64\n"
     ]
    }
   ],
   "source": [
    "# Print high-value customers\n",
    "print(\"\\nHigh-value customers:\")\n",
    "print(high_value_customers)"
   ]
  },
  {
   "cell_type": "code",
   "execution_count": 21,
   "id": "cb27cc6d",
   "metadata": {},
   "outputs": [],
   "source": [
    "# Segment customers based on buying behavior and preferences\n",
    "customer_segments = df.groupby(['Segment', 'Category']).size()"
   ]
  },
  {
   "cell_type": "code",
   "execution_count": 22,
   "id": "2297716f",
   "metadata": {},
   "outputs": [
    {
     "name": "stdout",
     "output_type": "stream",
     "text": [
      "\n",
      "Customer segments:\n",
      "Segment      Category       \n",
      "Consumer     Furniture          1092\n",
      "             Office Supplies    3068\n",
      "             Technology          936\n",
      "Corporate    Furniture           627\n",
      "             Office Supplies    1781\n",
      "             Technology          540\n",
      "Home Office  Furniture           357\n",
      "             Office Supplies    1054\n",
      "             Technology          334\n",
      "dtype: int64\n"
     ]
    }
   ],
   "source": [
    "# Print customer segments\n",
    "print(\"\\nCustomer segments:\")\n",
    "print(customer_segments)"
   ]
  },
  {
   "cell_type": "code",
   "execution_count": 23,
   "id": "aab7dc48",
   "metadata": {},
   "outputs": [],
   "source": [
    "# Identify potential customer segments for targeted marketing campaigns\n",
    "potential_segments = df.groupby('Segment')['Sales'].sum().nlargest(3)"
   ]
  },
  {
   "cell_type": "code",
   "execution_count": 24,
   "id": "485e6067",
   "metadata": {},
   "outputs": [
    {
     "name": "stdout",
     "output_type": "stream",
     "text": [
      "\n",
      "Potential customer segments:\n",
      "Segment\n",
      "Consumer       3.330431e+07\n",
      "Corporate      1.872164e+07\n",
      "Home Office    1.165959e+07\n",
      "Name: Sales, dtype: float64\n"
     ]
    }
   ],
   "source": [
    "# Print potential customer segments\n",
    "print(\"\\nPotential customer segments:\")\n",
    "print(potential_segments)"
   ]
  },
  {
   "cell_type": "code",
   "execution_count": 25,
   "id": "84f393dc",
   "metadata": {},
   "outputs": [],
   "source": [
    "# Analyze the distribution of shipping modes\n",
    "shipping_modes = df['Ship Mode'].value_counts()"
   ]
  },
  {
   "cell_type": "code",
   "execution_count": 26,
   "id": "94be7c18",
   "metadata": {},
   "outputs": [
    {
     "name": "stdout",
     "output_type": "stream",
     "text": [
      "Distribution of shipping modes:\n",
      "Standard Class    5849\n",
      "Second Class      1901\n",
      "First Class       1501\n",
      "Same Day           538\n",
      "Name: Ship Mode, dtype: int64\n"
     ]
    }
   ],
   "source": [
    "# Print the distribution of shipping modes\n",
    "print(\"Distribution of shipping modes:\")\n",
    "print(shipping_modes)"
   ]
  },
  {
   "cell_type": "code",
   "execution_count": 27,
   "id": "2bf9730e",
   "metadata": {},
   "outputs": [
    {
     "name": "stdout",
     "output_type": "stream",
     "text": [
      "\n",
      "Most commonly used shipping mode: Standard Class\n"
     ]
    }
   ],
   "source": [
    "# Determine the most commonly used shipping mode\n",
    "most_common_shipping_mode = shipping_modes.idxmax()\n",
    "print(\"\\nMost commonly used shipping mode: {}\".format(most_common_shipping_mode))"
   ]
  },
  {
   "cell_type": "code",
   "execution_count": 28,
   "id": "7401d7a8",
   "metadata": {},
   "outputs": [],
   "source": [
    "# Analyze sales and profit by customer segment\n",
    "segment_sales_profit = df.groupby('Segment').agg({'Sales': 'sum', 'Profit': 'sum'})"
   ]
  },
  {
   "cell_type": "code",
   "execution_count": 29,
   "id": "2c6ccc7f",
   "metadata": {},
   "outputs": [],
   "source": [
    "# Sort the results by sales in descending order\n",
    "segment_sales_profit = segment_sales_profit.sort_values('Sales', ascending=False)"
   ]
  },
  {
   "cell_type": "code",
   "execution_count": 30,
   "id": "6b8ee234",
   "metadata": {},
   "outputs": [
    {
     "name": "stdout",
     "output_type": "stream",
     "text": [
      "Sales and profit by segment:\n",
      "                    Sales    Profit\n",
      "Segment                            \n",
      "Consumer     3.330431e+07  29060.43\n",
      "Corporate    1.872164e+07 -31716.93\n",
      "Home Office  1.165959e+07   3033.60\n"
     ]
    }
   ],
   "source": [
    "# Print the sales and profit by segment\n",
    "print(\"Sales and profit by segment:\")\n",
    "print(segment_sales_profit)"
   ]
  },
  {
   "cell_type": "code",
   "execution_count": 31,
   "id": "0bc321e2",
   "metadata": {},
   "outputs": [],
   "source": [
    "# Compare sales performance across different regions\n",
    "region_sales = df.groupby('Region').agg({'Sales': 'sum'})"
   ]
  },
  {
   "cell_type": "code",
   "execution_count": 32,
   "id": "6866c87d",
   "metadata": {},
   "outputs": [],
   "source": [
    "# Sort the results by sales in descending order\n",
    "region_sales = region_sales.sort_values('Sales', ascending=False)"
   ]
  },
  {
   "cell_type": "code",
   "execution_count": 33,
   "id": "0602255e",
   "metadata": {},
   "outputs": [
    {
     "name": "stdout",
     "output_type": "stream",
     "text": [
      "\n",
      "Sales by region:\n",
      "                Sales\n",
      "Region               \n",
      "West     1.996667e+07\n",
      "East     1.835677e+07\n",
      "Central  1.474192e+07\n",
      "South    1.062018e+07\n"
     ]
    }
   ],
   "source": [
    "# Print the sales by region\n",
    "print(\"\\nSales by region:\")\n",
    "print(region_sales)"
   ]
  },
  {
   "cell_type": "code",
   "execution_count": 34,
   "id": "ae37a57e",
   "metadata": {},
   "outputs": [],
   "source": [
    "# Identify the most profitable segments and regions\n",
    "most_profitable_segments = segment_sales_profit.sort_values('Profit', ascending=False)\n",
    "most_profitable_regions = region_sales.sort_values('Sales', ascending=False)"
   ]
  },
  {
   "cell_type": "code",
   "execution_count": 35,
   "id": "4093273d",
   "metadata": {},
   "outputs": [
    {
     "name": "stdout",
     "output_type": "stream",
     "text": [
      "\n",
      "Most profitable segments:\n",
      "                    Sales    Profit\n",
      "Segment                            \n",
      "Consumer     3.330431e+07  29060.43\n",
      "Home Office  1.165959e+07   3033.60\n",
      "Corporate    1.872164e+07 -31716.93\n"
     ]
    }
   ],
   "source": [
    "print(\"\\nMost profitable segments:\")\n",
    "print(most_profitable_segments)"
   ]
  },
  {
   "cell_type": "code",
   "execution_count": 36,
   "id": "eb537cf7",
   "metadata": {},
   "outputs": [
    {
     "name": "stdout",
     "output_type": "stream",
     "text": [
      "\n",
      "Most profitable regions:\n",
      "                Sales\n",
      "Region               \n",
      "West     1.996667e+07\n",
      "East     1.835677e+07\n",
      "Central  1.474192e+07\n",
      "South    1.062018e+07\n"
     ]
    }
   ],
   "source": [
    "print(\"\\nMost profitable regions:\")\n",
    "print(most_profitable_regions)"
   ]
  },
  {
   "cell_type": "code",
   "execution_count": 37,
   "id": "52a2db86",
   "metadata": {},
   "outputs": [],
   "source": [
    "# Identify segments or regions that need improvement\n",
    "underperforming_segments = segment_sales_profit[segment_sales_profit['Sales'] < segment_sales_profit['Sales'].mean()]\n",
    "underperforming_regions = region_sales[region_sales['Sales'] < region_sales['Sales'].mean()]"
   ]
  },
  {
   "cell_type": "code",
   "execution_count": 38,
   "id": "c956ab1d",
   "metadata": {},
   "outputs": [
    {
     "name": "stdout",
     "output_type": "stream",
     "text": [
      "\n",
      "Underperforming segments:\n",
      "                    Sales    Profit\n",
      "Segment                            \n",
      "Corporate    1.872164e+07 -31716.93\n",
      "Home Office  1.165959e+07   3033.60\n"
     ]
    }
   ],
   "source": [
    "print(\"\\nUnderperforming segments:\")\n",
    "print(underperforming_segments)"
   ]
  },
  {
   "cell_type": "code",
   "execution_count": 39,
   "id": "2d8caba7",
   "metadata": {},
   "outputs": [
    {
     "name": "stdout",
     "output_type": "stream",
     "text": [
      "\n",
      "Underperforming regions:\n",
      "                Sales\n",
      "Region               \n",
      "Central  1.474192e+07\n",
      "South    1.062018e+07\n"
     ]
    }
   ],
   "source": [
    "print(\"\\nUnderperforming regions:\")\n",
    "print(underperforming_regions)"
   ]
  },
  {
   "cell_type": "code",
   "execution_count": 40,
   "id": "4826c0b2",
   "metadata": {},
   "outputs": [],
   "source": [
    "# Calculate total sales and profit for each category and sub-category\n",
    "category_sales_profit = df.groupby(['Category', 'Sub-Category']).agg({'Sales': 'sum', 'Profit': 'sum'})"
   ]
  },
  {
   "cell_type": "code",
   "execution_count": 41,
   "id": "55e0e235",
   "metadata": {},
   "outputs": [],
   "source": [
    "# Sort the results by sales in descending order\n",
    "category_sales_profit = category_sales_profit.sort_values('Sales', ascending=False)"
   ]
  },
  {
   "cell_type": "code",
   "execution_count": 42,
   "id": "ad41f3b8",
   "metadata": {},
   "outputs": [],
   "source": [
    "# Print the top-selling categories and sub-categories\n",
    "top_categories = category_sales_profit['Sales'].groupby(level=0).sum().nlargest(5)\n",
    "top_subcategories = category_sales_profit['Sales'].groupby(level=1).sum().nlargest(5)"
   ]
  },
  {
   "cell_type": "code",
   "execution_count": 43,
   "id": "bb36d695",
   "metadata": {},
   "outputs": [
    {
     "name": "stdout",
     "output_type": "stream",
     "text": [
      "Top-selling categories:\n",
      "Category\n",
      "Office Supplies    3.818804e+07\n",
      "Furniture          1.343547e+07\n",
      "Technology         1.206203e+07\n",
      "Name: Sales, dtype: float64\n"
     ]
    }
   ],
   "source": [
    "print(\"Top-selling categories:\")\n",
    "print(top_categories)"
   ]
  },
  {
   "cell_type": "code",
   "execution_count": 44,
   "id": "53a28207",
   "metadata": {},
   "outputs": [
    {
     "name": "stdout",
     "output_type": "stream",
     "text": [
      "\n",
      "Top-selling sub-categories:\n",
      "Sub-Category\n",
      "Binders        9.827857e+06\n",
      "Paper          8.483776e+06\n",
      "Furnishings    5.938815e+06\n",
      "Phones         5.873508e+06\n",
      "Storage        5.289868e+06\n",
      "Name: Sales, dtype: float64\n"
     ]
    }
   ],
   "source": [
    "print(\"\\nTop-selling sub-categories:\")\n",
    "print(top_subcategories)"
   ]
  },
  {
   "cell_type": "code",
   "execution_count": 45,
   "id": "d90aefbe",
   "metadata": {},
   "outputs": [],
   "source": [
    "# Analyze profitability of different categories and sub-categories\n",
    "category_profitability = df.groupby(['Category', 'Sub-Category']).agg({'Profit': 'mean'})"
   ]
  },
  {
   "cell_type": "code",
   "execution_count": 46,
   "id": "8b705079",
   "metadata": {},
   "outputs": [],
   "source": [
    "# Sort the results by profitability in descending order\n",
    "category_profitability = category_profitability.sort_values('Profit', ascending=False)"
   ]
  },
  {
   "cell_type": "code",
   "execution_count": 47,
   "id": "4d02b11f",
   "metadata": {},
   "outputs": [],
   "source": [
    "# Print the most profitable categories and sub-categories\n",
    "top_profitable_categories = category_profitability['Profit'].groupby(level=0).mean().nlargest(5)\n",
    "top_profitable_subcategories = category_profitability['Profit'].groupby(level=1).mean().nlargest(5)"
   ]
  },
  {
   "cell_type": "code",
   "execution_count": 48,
   "id": "10d69dd2",
   "metadata": {},
   "outputs": [
    {
     "name": "stdout",
     "output_type": "stream",
     "text": [
      "\n",
      "Most profitable categories:\n",
      "Category\n",
      "Technology         11.937728\n",
      "Office Supplies    -1.564492\n",
      "Furniture          -3.715014\n",
      "Name: Profit, dtype: float64\n"
     ]
    }
   ],
   "source": [
    "print(\"\\nMost profitable categories:\")\n",
    "print(top_profitable_categories)"
   ]
  },
  {
   "cell_type": "code",
   "execution_count": 49,
   "id": "2d2a5e4e",
   "metadata": {},
   "outputs": [
    {
     "name": "stdout",
     "output_type": "stream",
     "text": [
      "\n",
      "Most profitable sub-categories:\n",
      "Sub-Category\n",
      "Machines       36.619391\n",
      "Bookcases      25.171556\n",
      "Accessories    15.950782\n",
      "Phones         13.252251\n",
      "Appliances      7.875044\n",
      "Name: Profit, dtype: float64\n"
     ]
    }
   ],
   "source": [
    "print(\"\\nMost profitable sub-categories:\")\n",
    "print(top_profitable_subcategories)"
   ]
  },
  {
   "cell_type": "code",
   "execution_count": 50,
   "id": "63b09d9c",
   "metadata": {},
   "outputs": [],
   "source": [
    "# Identify underperforming categories\n",
    "underperforming_categories = category_sales_profit['Sales'].groupby(level=0).sum().nsmallest(5)"
   ]
  },
  {
   "cell_type": "code",
   "execution_count": 51,
   "id": "6c35568d",
   "metadata": {},
   "outputs": [
    {
     "name": "stdout",
     "output_type": "stream",
     "text": [
      "\n",
      "Underperforming categories:\n",
      "Category\n",
      "Technology         1.206203e+07\n",
      "Furniture          1.343547e+07\n",
      "Office Supplies    3.818804e+07\n",
      "Name: Sales, dtype: float64\n"
     ]
    }
   ],
   "source": [
    "print(\"\\nUnderperforming categories:\")\n",
    "print(underperforming_categories)"
   ]
  },
  {
   "cell_type": "code",
   "execution_count": 52,
   "id": "ae76e59d",
   "metadata": {},
   "outputs": [],
   "source": [
    "# Analyze sales and profit trends over time (by month, year, quarter)\n",
    "df['Month'] = df['Order Date'].dt.month\n",
    "df['Year'] = df['Order Date'].dt.year\n",
    "df['Quarter'] = df['Order Date'].dt.quarter\n",
    "\n",
    "sales_by_month = df.groupby('Month')['Sales'].sum()\n",
    "profit_by_month = df.groupby('Month')['Profit'].sum()\n",
    "\n",
    "sales_by_year = df.groupby('Year')['Sales'].sum()\n",
    "profit_by_year = df.groupby('Year')['Profit'].sum()\n",
    "\n",
    "sales_by_quarter = df.groupby('Quarter')['Sales'].sum()\n",
    "profit_by_quarter = df.groupby('Quarter')['Profit'].sum()"
   ]
  },
  {
   "cell_type": "code",
   "execution_count": 53,
   "id": "3968bd9f",
   "metadata": {},
   "outputs": [
    {
     "name": "stdout",
     "output_type": "stream",
     "text": [
      "Sales by Month:\n",
      "Month\n",
      "1     3.838679e+06\n",
      "2     3.371497e+06\n",
      "3     5.123077e+06\n",
      "4     4.366205e+06\n",
      "5     5.622306e+06\n",
      "6     4.351000e+06\n",
      "7     4.610228e+06\n",
      "8     5.358837e+06\n",
      "9     7.228462e+06\n",
      "10    5.210890e+06\n",
      "11    7.773593e+06\n",
      "12    6.830768e+06\n",
      "Name: Sales, dtype: float64\n"
     ]
    }
   ],
   "source": [
    "# Print sales and profit trends over time\n",
    "print(\"Sales by Month:\")\n",
    "print(sales_by_month)"
   ]
  },
  {
   "cell_type": "code",
   "execution_count": 54,
   "id": "2970a6a7",
   "metadata": {},
   "outputs": [
    {
     "name": "stdout",
     "output_type": "stream",
     "text": [
      "\n",
      "Profit by Month:\n",
      "Month\n",
      "1     -2203.62\n",
      "2      7299.55\n",
      "3    -20334.90\n",
      "4      1024.78\n",
      "5     21288.55\n",
      "6     -5523.21\n",
      "7       747.29\n",
      "8      1227.87\n",
      "9    -22663.76\n",
      "10     4582.54\n",
      "11     7846.75\n",
      "12     7085.26\n",
      "Name: Profit, dtype: float64\n"
     ]
    }
   ],
   "source": [
    "print(\"\\nProfit by Month:\")\n",
    "print(profit_by_month)"
   ]
  },
  {
   "cell_type": "code",
   "execution_count": 55,
   "id": "f6a78928",
   "metadata": {},
   "outputs": [
    {
     "name": "stdout",
     "output_type": "stream",
     "text": [
      "\n",
      "Sales by Year:\n",
      "Year\n",
      "2015    1.278990e+07\n",
      "2016    1.318758e+07\n",
      "2017    1.651983e+07\n",
      "2018    2.118823e+07\n",
      "Name: Sales, dtype: float64\n"
     ]
    }
   ],
   "source": [
    "print(\"\\nSales by Year:\")\n",
    "print(sales_by_year)"
   ]
  },
  {
   "cell_type": "code",
   "execution_count": 56,
   "id": "a5000b82",
   "metadata": {},
   "outputs": [
    {
     "name": "stdout",
     "output_type": "stream",
     "text": [
      "\n",
      "Profit by Year:\n",
      "Year\n",
      "2015     1360.81\n",
      "2016     1842.40\n",
      "2017   -15099.57\n",
      "2018    12273.46\n",
      "Name: Profit, dtype: float64\n"
     ]
    }
   ],
   "source": [
    "print(\"\\nProfit by Year:\")\n",
    "print(profit_by_year)"
   ]
  },
  {
   "cell_type": "code",
   "execution_count": 57,
   "id": "1d80f33e",
   "metadata": {},
   "outputs": [
    {
     "name": "stdout",
     "output_type": "stream",
     "text": [
      "\n",
      "Sales by Quarter:\n",
      "Quarter\n",
      "1    1.233325e+07\n",
      "2    1.433951e+07\n",
      "3    1.719753e+07\n",
      "4    1.981525e+07\n",
      "Name: Sales, dtype: float64\n"
     ]
    }
   ],
   "source": [
    "print(\"\\nSales by Quarter:\")\n",
    "print(sales_by_quarter)"
   ]
  },
  {
   "cell_type": "code",
   "execution_count": 58,
   "id": "cf3002a2",
   "metadata": {},
   "outputs": [
    {
     "name": "stdout",
     "output_type": "stream",
     "text": [
      "\n",
      "Profit by Quarter:\n",
      "Quarter\n",
      "1   -15238.97\n",
      "2    16790.12\n",
      "3   -20688.60\n",
      "4    19514.55\n",
      "Name: Profit, dtype: float64\n"
     ]
    }
   ],
   "source": [
    "print(\"\\nProfit by Quarter:\")\n",
    "print(profit_by_quarter)"
   ]
  },
  {
   "cell_type": "code",
   "execution_count": 59,
   "id": "dd87013f",
   "metadata": {},
   "outputs": [],
   "source": [
    "# Identify seasonal patterns or trends in sales\n",
    "monthly_sales_average = df.groupby('Month')['Sales'].mean()\n",
    "monthly_sales_std = df.groupby('Month')['Sales'].std()"
   ]
  },
  {
   "cell_type": "code",
   "execution_count": 60,
   "id": "977555b6",
   "metadata": {},
   "outputs": [
    {
     "name": "stdout",
     "output_type": "stream",
     "text": [
      "\n",
      "Monthly Sales Average:\n",
      "Month\n",
      "1     6758.236822\n",
      "2     6290.105972\n",
      "3     6427.950655\n",
      "4     6318.675405\n",
      "5     6881.646942\n",
      "6     6370.425114\n",
      "7     6376.525786\n",
      "8     6715.334288\n",
      "9     6477.116585\n",
      "10    6505.481215\n",
      "11    6510.547238\n",
      "12    6413.866740\n",
      "Name: Sales, dtype: float64\n",
      "\n",
      "Monthly Sales Standard Deviation:\n",
      "Month\n",
      "1     5944.515057\n",
      "2     5541.363925\n",
      "3     5527.772227\n",
      "4     5378.635474\n",
      "5     5782.931730\n",
      "6     5578.329916\n",
      "7     5520.816889\n",
      "8     5541.099424\n",
      "9     5733.926406\n",
      "10    5781.790431\n",
      "11    5558.734413\n",
      "12    5523.492951\n",
      "Name: Sales, dtype: float64\n"
     ]
    }
   ],
   "source": [
    "# Print monthly sales average and standard deviation\n",
    "print(\"\\nMonthly Sales Average:\")\n",
    "print(monthly_sales_average)\n",
    "print(\"\\nMonthly Sales Standard Deviation:\")\n",
    "print(monthly_sales_std)"
   ]
  },
  {
   "cell_type": "code",
   "execution_count": 61,
   "id": "bdd15429",
   "metadata": {},
   "outputs": [],
   "source": [
    "# Determine specific time periods with significant sales or profit fluctuations\n",
    "significant_sales_periods = df.groupby('Year')['Sales'].std().nlargest(3)\n",
    "significant_profit_periods = df.groupby('Year')['Profit'].std().nlargest(3)"
   ]
  },
  {
   "cell_type": "code",
   "execution_count": 62,
   "id": "7ea5fa2b",
   "metadata": {},
   "outputs": [
    {
     "name": "stdout",
     "output_type": "stream",
     "text": [
      "\n",
      "Significant Sales Periods:\n",
      "Year\n",
      "2018    5709.464378\n",
      "2017    5615.498141\n",
      "2015    5587.556432\n",
      "Name: Sales, dtype: float64\n",
      "\n",
      "Significant Profit Periods:\n",
      "Year\n",
      "2017    411.854617\n",
      "2016    408.338374\n",
      "2015    405.184486\n",
      "Name: Profit, dtype: float64\n"
     ]
    }
   ],
   "source": [
    "# Print significant sales and profit periods\n",
    "print(\"\\nSignificant Sales Periods:\")\n",
    "print(significant_sales_periods)\n",
    "print(\"\\nSignificant Profit Periods:\")\n",
    "print(significant_profit_periods)"
   ]
  },
  {
   "cell_type": "code",
   "execution_count": 63,
   "id": "97edef20",
   "metadata": {},
   "outputs": [],
   "source": [
    "# Analyze relationship between order date and ship date to identify delays or issues\n",
    "df['OrderToShipDays'] = (df['Ship Date'] - df['Order Date']).dt.days\n",
    "average_order_to_ship_days = df['OrderToShipDays'].mean()\n",
    "max_order_to_ship_days = df['OrderToShipDays'].max()"
   ]
  },
  {
   "cell_type": "code",
   "execution_count": 64,
   "id": "e44042a1",
   "metadata": {},
   "outputs": [
    {
     "name": "stdout",
     "output_type": "stream",
     "text": [
      "\n",
      "Average Order-to-Ship Days: 9.183266932270916\n",
      "Maximum Order-to-Ship Days: 214\n"
     ]
    }
   ],
   "source": [
    "# Print average and maximum order-to-ship days\n",
    "print(\"\\nAverage Order-to-Ship Days:\", average_order_to_ship_days)\n",
    "print(\"Maximum Order-to-Ship Days:\", max_order_to_ship_days)"
   ]
  },
  {
   "cell_type": "code",
   "execution_count": 65,
   "id": "7fd59b19",
   "metadata": {},
   "outputs": [],
   "source": [
    "# Identify the best-selling products based on quantity sold\n",
    "best_selling_products_quantity = df.groupby('Product ID')['Quantity'].sum().nlargest(10)"
   ]
  },
  {
   "cell_type": "code",
   "execution_count": 66,
   "id": "167a2e74",
   "metadata": {},
   "outputs": [],
   "source": [
    "# Identify the best-selling products based on sales revenue\n",
    "df['Revenue'] = df['Quantity'] * df['Price']  # Calculate revenue for each transaction\n",
    "best_selling_products_revenue = df.groupby('Product ID')['Revenue'].sum().nlargest(10)"
   ]
  },
  {
   "cell_type": "code",
   "execution_count": 67,
   "id": "65f46751",
   "metadata": {},
   "outputs": [
    {
     "name": "stdout",
     "output_type": "stream",
     "text": [
      "Best-selling products based on quantity sold:\n",
      "Product ID\n",
      "TEC-AC-10003628    225\n",
      "FUR-CH-10003774    220\n",
      "TEC-AC-10003832    217\n",
      "OFF-PA-10001970    213\n",
      "FUR-FU-10004270    203\n",
      "OFF-BI-10004364    192\n",
      "TEC-AC-10002049    192\n",
      "OFF-BI-10004970    188\n",
      "TEC-PH-10001552    187\n",
      "FUR-CH-10002965    184\n",
      "Name: Quantity, dtype: int64\n",
      "\n",
      "Best-selling products based on sales revenue:\n",
      "Product ID\n",
      "OFF-BI-10004364    131860.68\n",
      "FUR-BO-10002213    131217.89\n",
      "FUR-CH-10003774    131020.94\n",
      "TEC-AC-10003832    128900.72\n",
      "FUR-FU-10004270    122201.00\n",
      "OFF-AR-10003732    113172.79\n",
      "TEC-PH-10001817    110575.02\n",
      "OFF-PA-10002377    110202.16\n",
      "OFF-ST-10001558    109287.93\n",
      "OFF-BI-10004970    108440.39\n",
      "Name: Revenue, dtype: float64\n"
     ]
    }
   ],
   "source": [
    "# Print the best-selling products\n",
    "print(\"Best-selling products based on quantity sold:\")\n",
    "print(best_selling_products_quantity)\n",
    "print(\"\\nBest-selling products based on sales revenue:\")\n",
    "print(best_selling_products_revenue)"
   ]
  },
  {
   "cell_type": "code",
   "execution_count": 68,
   "id": "07f23712",
   "metadata": {},
   "outputs": [],
   "source": [
    "# Determine if there are any product categories or sub-categories that require attention or promotion\n",
    "category_attention = df.groupby('Category')['Profit'].sum().nsmallest(1)\n",
    "subcategory_attention = df.groupby('Sub-Category')['Profit'].sum().nsmallest(1)"
   ]
  },
  {
   "cell_type": "code",
   "execution_count": 69,
   "id": "c0d0b825",
   "metadata": {},
   "outputs": [
    {
     "name": "stdout",
     "output_type": "stream",
     "text": [
      "\n",
      "Product category requiring attention:\n",
      "Category\n",
      "Furniture   -18474.58\n",
      "Name: Profit, dtype: float64\n",
      "\n",
      "Product sub-category requiring attention:\n",
      "Sub-Category\n",
      "Furnishings   -16594.53\n",
      "Name: Profit, dtype: float64\n"
     ]
    }
   ],
   "source": [
    "# Print product categories and sub-categories that require attention or promotion\n",
    "print(\"\\nProduct category requiring attention:\")\n",
    "print(category_attention)\n",
    "print(\"\\nProduct sub-category requiring attention:\")\n",
    "print(subcategory_attention)"
   ]
  },
  {
   "cell_type": "code",
   "execution_count": 70,
   "id": "f6fa72f8",
   "metadata": {},
   "outputs": [],
   "source": [
    "# Perform customer segmentation based on demographic factors\n",
    "segmentation = df.groupby(['City', 'Segment', 'Customer Name']).size().reset_index(name='Count')"
   ]
  },
  {
   "cell_type": "code",
   "execution_count": 71,
   "id": "5cbb3eba",
   "metadata": {},
   "outputs": [
    {
     "name": "stdout",
     "output_type": "stream",
     "text": [
      "Customer Segmentation:\n",
      "          City      Segment    Customer Name  Count\n",
      "0     Aberdeen     Consumer  Jeremy Lonsdale      1\n",
      "1      Abilene     Consumer      Dennis Kane      1\n",
      "2        Akron     Consumer      John Murray      1\n",
      "3        Akron     Consumer       Karl Braun      5\n",
      "4        Akron     Consumer  Maria Bertelson      1\n",
      "...        ...          ...              ...    ...\n",
      "4586   Yucaipa    Corporate    Odella Nelson      1\n",
      "4587      Yuma    Corporate     Dario Medina      1\n",
      "4588      Yuma    Corporate    Tiffany House      1\n",
      "4589      Yuma  Home Office      Gary Hansen      1\n",
      "4590      Yuma  Home Office    Nick Zandusky      1\n",
      "\n",
      "[4591 rows x 4 columns]\n"
     ]
    }
   ],
   "source": [
    "# Print the segmentation results\n",
    "print(\"Customer Segmentation:\")\n",
    "print(segmentation)"
   ]
  },
  {
   "cell_type": "code",
   "execution_count": 72,
   "id": "3861be71",
   "metadata": {},
   "outputs": [
    {
     "name": "stdout",
     "output_type": "stream",
     "text": [
      "\n",
      "Targeted Marketing Campaign for Consumer:\n",
      "   Row ID        Order ID Order Date  Ship Date       Ship Mode Customer ID  \\\n",
      "0       1  CA-2017-152156 2017-08-11 2017-11-11    Second Class    CG-12520   \n",
      "1       2  CA-2017-152156 2017-08-11 2017-11-11    Second Class    CG-12520   \n",
      "3       4  US-2016-108966 2016-11-10 2016-10-18  Standard Class    SO-20335   \n",
      "4       5  US-2016-108966 2016-11-10 2016-10-18  Standard Class    SO-20335   \n",
      "5       6  CA-2015-115812 2015-09-06 2015-06-14  Standard Class    BH-11710   \n",
      "\n",
      "     Customer Name   Segment        Country             City  ...   Price  \\\n",
      "0      Claire Gute  Consumer  United States        Henderson  ...  901.06   \n",
      "1      Claire Gute  Consumer  United States        Henderson  ...  138.70   \n",
      "3   Sean O'Donnell  Consumer  United States  Fort Lauderdale  ...  445.88   \n",
      "4   Sean O'Donnell  Consumer  United States  Fort Lauderdale  ...  137.59   \n",
      "5  Brosina Hoffman  Consumer  United States      Los Angeles  ...  162.16   \n",
      "\n",
      "   Profit Quantity        Sales Profit Margin Month  Year  Quarter  \\\n",
      "0  436.58        4  3604.243977     12.112942     8  2017        3   \n",
      "1 -617.40       12  1664.369269    -37.095133     8  2017        3   \n",
      "3 -430.03       13  5796.463018     -7.418835    11  2016        4   \n",
      "4  -49.58       19  2614.284944     -1.896503    11  2016        4   \n",
      "5 -633.44       19  3081.066152    -20.559117     9  2015        3   \n",
      "\n",
      "   OrderToShipDays  Revenue  \n",
      "0               92  3604.24  \n",
      "1               92  1664.40  \n",
      "3              -23  5796.44  \n",
      "4              -23  2614.21  \n",
      "5              -84  3081.04  \n",
      "\n",
      "[5 rows x 28 columns]\n",
      "\n",
      "Targeted Marketing Campaign for Corporate:\n",
      "    Row ID        Order ID Order Date  Ship Date       Ship Mode Customer ID  \\\n",
      "2        3  CA-2017-138688 2017-12-06 2017-06-16    Second Class    DV-13045   \n",
      "21      22  CA-2017-137330 2017-09-12 2017-12-13  Standard Class    KB-16585   \n",
      "22      23  CA-2017-137330 2017-09-12 2017-12-13  Standard Class    KB-16585   \n",
      "35      36  CA-2017-117590 2017-08-12 2017-10-12     First Class    GH-14485   \n",
      "36      37  CA-2017-117590 2017-08-12 2017-10-12     First Class    GH-14485   \n",
      "\n",
      "      Customer Name    Segment        Country         City  ...   Price  \\\n",
      "2   Darrin Van Huff  Corporate  United States  Los Angeles  ...  159.28   \n",
      "21        Ken Black  Corporate  United States      Fremont  ...  564.50   \n",
      "22        Ken Black  Corporate  United States      Fremont  ...   73.08   \n",
      "35        Gene Hale  Corporate  United States   Richardson  ...  580.41   \n",
      "36        Gene Hale  Corporate  United States   Richardson  ...  332.61   \n",
      "\n",
      "    Profit Quantity        Sales Profit Margin Month  Year  Quarter  \\\n",
      "2  -378.40       12  1911.397750    -19.797031    12  2017        4   \n",
      "21  410.50        8  4515.970601      9.089962     9  2017        3   \n",
      "22 -896.48        2   146.159702   -613.356480     9  2017        3   \n",
      "35 -121.76        7  4062.877937     -2.996890     8  2017        3   \n",
      "36 -484.19        4  1330.433705    -36.393395     8  2017        3   \n",
      "\n",
      "    OrderToShipDays  Revenue  \n",
      "2              -173  1911.36  \n",
      "21               92  4516.00  \n",
      "22               92   146.16  \n",
      "35               61  4062.87  \n",
      "36               61  1330.44  \n",
      "\n",
      "[5 rows x 28 columns]\n",
      "\n",
      "Targeted Marketing Campaign for Home Office:\n",
      "    Row ID        Order ID Order Date  Ship Date       Ship Mode Customer ID  \\\n",
      "14      15  US-2016-118983 2016-11-22 2016-11-26  Standard Class    HP-14815   \n",
      "15      16  US-2016-118983 2016-11-22 2016-11-26  Standard Class    HP-14815   \n",
      "34      35  CA-2018-107727 2018-10-19 2018-10-23    Second Class    MA-17560   \n",
      "37      38  CA-2016-117415 2016-12-27 2016-12-31  Standard Class    SN-20710   \n",
      "38      39  CA-2016-117415 2016-12-27 2016-12-31  Standard Class    SN-20710   \n",
      "\n",
      "    Customer Name      Segment        Country        City  ...   Price  \\\n",
      "14  Harold Pawlan  Home Office  United States  Fort Worth  ...  725.46   \n",
      "15  Harold Pawlan  Home Office  United States  Fort Worth  ...  586.56   \n",
      "34   Matt Abelman  Home Office  United States     Houston  ...  562.08   \n",
      "37   Steve Nguyen  Home Office  United States     Houston  ...   75.04   \n",
      "38   Steve Nguyen  Home Office  United States     Houston  ...  618.75   \n",
      "\n",
      "    Profit Quantity         Sales Profit Margin Month  Year  Quarter  \\\n",
      "14  -77.83        1    725.455295    -10.728435    11  2016        4   \n",
      "15  234.81       22  12904.316310      1.819624    11  2016        4   \n",
      "34   61.27        3   1686.231170      3.633547    10  2018        4   \n",
      "37 -791.72        9    675.325882   -117.235252    12  2016        4   \n",
      "38 -297.09       18  11137.436000     -2.667490    12  2016        4   \n",
      "\n",
      "    OrderToShipDays   Revenue  \n",
      "14                4    725.46  \n",
      "15                4  12904.32  \n",
      "34                4   1686.24  \n",
      "37                4    675.36  \n",
      "38                4  11137.50  \n",
      "\n",
      "[5 rows x 28 columns]\n"
     ]
    }
   ],
   "source": [
    "# Develop targeted marketing campaigns for different customer segments\n",
    "for segment, data in df.groupby('Segment'):\n",
    "    # Code to develop and execute marketing campaigns for each segment\n",
    "    # You can access the data for each segment using the 'data' variable\n",
    "    print(f\"\\nTargeted Marketing Campaign for {segment}:\")\n",
    "    print(data.head())  # Example: Print the first few rows of data for the segment\n",
    "    # Add code here to create and execute marketing campaigns for each segment"
   ]
  },
  {
   "cell_type": "code",
   "execution_count": null,
   "id": "b30f0f8b",
   "metadata": {},
   "outputs": [],
   "source": []
  },
  {
   "cell_type": "code",
   "execution_count": null,
   "id": "b15c105d",
   "metadata": {},
   "outputs": [],
   "source": []
  }
 ],
 "metadata": {
  "kernelspec": {
   "display_name": "Python 3 (ipykernel)",
   "language": "python",
   "name": "python3"
  },
  "language_info": {
   "codemirror_mode": {
    "name": "ipython",
    "version": 3
   },
   "file_extension": ".py",
   "mimetype": "text/x-python",
   "name": "python",
   "nbconvert_exporter": "python",
   "pygments_lexer": "ipython3",
   "version": "3.9.7"
  }
 },
 "nbformat": 4,
 "nbformat_minor": 5
}
